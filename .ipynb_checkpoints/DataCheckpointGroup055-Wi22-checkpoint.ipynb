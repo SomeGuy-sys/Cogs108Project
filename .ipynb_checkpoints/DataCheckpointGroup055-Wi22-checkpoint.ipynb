{
 "cells": [
  {
   "cell_type": "markdown",
   "metadata": {},
   "source": [
    "# COGS 108 - Data Checkpoint"
   ]
  },
  {
   "cell_type": "markdown",
   "metadata": {},
   "source": [
    "# Names\n",
    "\n",
    "- Alexander Huynh\n",
    "- Ron Lai\n",
    "- Fernando Lares\n",
    "- Jerrick Lee\n",
    "- Dong Pham"
   ]
  },
  {
   "cell_type": "markdown",
   "metadata": {},
   "source": [
    "<a id='research_question'></a>\n",
    "# Research Question"
   ]
  },
  {
   "cell_type": "markdown",
   "metadata": {},
   "source": [
    "Is there a relationship between a game being watched on twitch and the game's number of players in a game per month? We will focus on Twitch.tv average viewers per month of games, while we will use Steam to gather data on the games being played on steam per month average."
   ]
  },
  {
   "cell_type": "markdown",
   "metadata": {},
   "source": [
    "# Dataset(s)"
   ]
  },
  {
   "cell_type": "markdown",
   "metadata": {},
   "source": [
    "- Dataset Name: Twitch_game_data.csv\n",
    "- Link to the dataset: https://www.kaggle.com/rankirsh/evolution-of-top-games-on-twitch\n",
    "- Number of observations: 14400\n",
    "<br>This dataset has Twitch metrics sorted by year and month. We will be focusing specifically on each game's Hour_watched, Avg_viewer_ratio, Peak_viewers, and Avg_viewers.<br><br>\n",
    "\n",
    "- Dataset Name: Valve_Player_Data.csv\n",
    "- Link to the dataset: https://www.kaggle.com/jackogozaly/steam-player-data?select=Valve_Player_Data.csv\n",
    "- Number of observations: 5271\n",
    "<br>This dataset has Steam metrics sorted by year and month. We will be focusing specifically on each game's Avg_players as well as Peak_Players.\n",
    "\n",
    "<b>How we plan to combine these datasets</b><br>\n",
    "We plan to combine both datasets through the dates (month and year) as well as the game being played. This way we will have one set that tells us how many people are watching a game as well as playing by month and year."
   ]
  },
  {
   "cell_type": "markdown",
   "metadata": {},
   "source": [
    "# Setup"
   ]
  },
  {
   "cell_type": "code",
   "execution_count": 1,
   "metadata": {},
   "outputs": [],
   "source": [
    "## YOUR CODE HERE\n",
    "import numpy as np\n",
    "import pandas as pd"
   ]
  },
  {
   "cell_type": "markdown",
   "metadata": {},
   "source": [
    "# Data Cleaning"
   ]
  },
  {
   "cell_type": "markdown",
   "metadata": {},
   "source": [
    "Describe your data cleaning steps here."
   ]
  },
  {
   "cell_type": "code",
   "execution_count": 26,
   "metadata": {},
   "outputs": [],
   "source": [
    "## YOUR CODE HERE\n",
    "## FEEL FREE TO ADD MULTIPLE CELLS PER SECTION\n",
    "\n",
    "#Steam = pd.read_csv('steam_games.csv')\n",
    "#Steam.head()"
   ]
  },
  {
   "cell_type": "code",
   "execution_count": 10,
   "metadata": {},
   "outputs": [
    {
     "data": {
      "text/plain": [
       "Index(['Rank', 'Game', 'Month', 'Year', 'Hours_watched', 'Hours_Streamed',\n",
       "       'Peak_viewers', 'Peak_channels', 'Streamers', 'Avg_viewers',\n",
       "       'Avg_channels', 'Avg_viewer_ratio'],\n",
       "      dtype='object')"
      ]
     },
     "execution_count": 10,
     "metadata": {},
     "output_type": "execute_result"
    }
   ],
   "source": [
    "\n",
    "Twitch = pd.read_csv('Twitch_game_data.csv', encoding='cp1252')\n",
    "Twitch.columns"
   ]
  },
  {
   "cell_type": "code",
   "execution_count": 24,
   "metadata": {},
   "outputs": [],
   "source": [
    "watchers = Twitch[['Year', 'Month', 'Game', 'Hours_watched', 'Avg_viewer_ratio', 'Peak_viewers', 'Avg_viewers']]"
   ]
  },
  {
   "cell_type": "code",
   "execution_count": 25,
   "metadata": {},
   "outputs": [
    {
     "data": {
      "text/html": [
       "<div>\n",
       "<style scoped>\n",
       "    .dataframe tbody tr th:only-of-type {\n",
       "        vertical-align: middle;\n",
       "    }\n",
       "\n",
       "    .dataframe tbody tr th {\n",
       "        vertical-align: top;\n",
       "    }\n",
       "\n",
       "    .dataframe thead th {\n",
       "        text-align: right;\n",
       "    }\n",
       "</style>\n",
       "<table border=\"1\" class=\"dataframe\">\n",
       "  <thead>\n",
       "    <tr style=\"text-align: right;\">\n",
       "      <th></th>\n",
       "      <th>Year</th>\n",
       "      <th>Month</th>\n",
       "      <th>Game</th>\n",
       "      <th>Hours_watched</th>\n",
       "      <th>Avg_viewer_ratio</th>\n",
       "      <th>Peak_viewers</th>\n",
       "      <th>Avg_viewers</th>\n",
       "    </tr>\n",
       "  </thead>\n",
       "  <tbody>\n",
       "    <tr>\n",
       "      <th>0</th>\n",
       "      <td>2016</td>\n",
       "      <td>1</td>\n",
       "      <td>League of Legends</td>\n",
       "      <td>94377226</td>\n",
       "      <td>69.29</td>\n",
       "      <td>530270</td>\n",
       "      <td>127021</td>\n",
       "    </tr>\n",
       "    <tr>\n",
       "      <th>1</th>\n",
       "      <td>2016</td>\n",
       "      <td>1</td>\n",
       "      <td>Counter-Strike: Global Offensive</td>\n",
       "      <td>47832863</td>\n",
       "      <td>57.62</td>\n",
       "      <td>372654</td>\n",
       "      <td>64378</td>\n",
       "    </tr>\n",
       "    <tr>\n",
       "      <th>2</th>\n",
       "      <td>2016</td>\n",
       "      <td>1</td>\n",
       "      <td>Dota 2</td>\n",
       "      <td>45185893</td>\n",
       "      <td>104.26</td>\n",
       "      <td>315083</td>\n",
       "      <td>60815</td>\n",
       "    </tr>\n",
       "    <tr>\n",
       "      <th>3</th>\n",
       "      <td>2016</td>\n",
       "      <td>1</td>\n",
       "      <td>Hearthstone</td>\n",
       "      <td>39936159</td>\n",
       "      <td>169.29</td>\n",
       "      <td>131357</td>\n",
       "      <td>53749</td>\n",
       "    </tr>\n",
       "    <tr>\n",
       "      <th>4</th>\n",
       "      <td>2016</td>\n",
       "      <td>1</td>\n",
       "      <td>Call of Duty: Black Ops III</td>\n",
       "      <td>16153057</td>\n",
       "      <td>14.03</td>\n",
       "      <td>71639</td>\n",
       "      <td>21740</td>\n",
       "    </tr>\n",
       "  </tbody>\n",
       "</table>\n",
       "</div>"
      ],
      "text/plain": [
       "   Year  Month                              Game  Hours_watched  \\\n",
       "0  2016      1                 League of Legends       94377226   \n",
       "1  2016      1  Counter-Strike: Global Offensive       47832863   \n",
       "2  2016      1                            Dota 2       45185893   \n",
       "3  2016      1                       Hearthstone       39936159   \n",
       "4  2016      1       Call of Duty: Black Ops III       16153057   \n",
       "\n",
       "   Avg_viewer_ratio  Peak_viewers  Avg_viewers  \n",
       "0             69.29        530270       127021  \n",
       "1             57.62        372654        64378  \n",
       "2            104.26        315083        60815  \n",
       "3            169.29        131357        53749  \n",
       "4             14.03         71639        21740  "
      ]
     },
     "execution_count": 25,
     "metadata": {},
     "output_type": "execute_result"
    }
   ],
   "source": [
    "watchers.head()"
   ]
  },
  {
   "cell_type": "code",
   "execution_count": 20,
   "metadata": {},
   "outputs": [
    {
     "data": {
      "text/plain": [
       "Index(['Month_Year', 'Avg_players', 'Gain', 'Percent_Gain', 'Peak_Players',\n",
       "       'URL', 'Date', 'Game_Name'],\n",
       "      dtype='object')"
      ]
     },
     "execution_count": 20,
     "metadata": {},
     "output_type": "execute_result"
    }
   ],
   "source": [
    "Player = pd.read_csv('Valve_Player_Data.csv')\n",
    "Player.columns\n",
    "\n"
   ]
  },
  {
   "cell_type": "code",
   "execution_count": 22,
   "metadata": {},
   "outputs": [],
   "source": [
    "avg_counts = Player[['Month_Year', 'Avg_players', 'Peak_Players', 'Date', 'Game_Name']]"
   ]
  },
  {
   "cell_type": "code",
   "execution_count": 23,
   "metadata": {},
   "outputs": [
    {
     "data": {
      "text/html": [
       "<div>\n",
       "<style scoped>\n",
       "    .dataframe tbody tr th:only-of-type {\n",
       "        vertical-align: middle;\n",
       "    }\n",
       "\n",
       "    .dataframe tbody tr th {\n",
       "        vertical-align: top;\n",
       "    }\n",
       "\n",
       "    .dataframe thead th {\n",
       "        text-align: right;\n",
       "    }\n",
       "</style>\n",
       "<table border=\"1\" class=\"dataframe\">\n",
       "  <thead>\n",
       "    <tr style=\"text-align: right;\">\n",
       "      <th></th>\n",
       "      <th>Month_Year</th>\n",
       "      <th>Avg_players</th>\n",
       "      <th>Peak_Players</th>\n",
       "      <th>Date</th>\n",
       "      <th>Game_Name</th>\n",
       "    </tr>\n",
       "  </thead>\n",
       "  <tbody>\n",
       "    <tr>\n",
       "      <th>0</th>\n",
       "      <td>September 2021</td>\n",
       "      <td>512350.92</td>\n",
       "      <td>942519</td>\n",
       "      <td>2021-09-01</td>\n",
       "      <td>Counter Strike: Global Offensive</td>\n",
       "    </tr>\n",
       "    <tr>\n",
       "      <th>1</th>\n",
       "      <td>August 2021</td>\n",
       "      <td>512081.96</td>\n",
       "      <td>802544</td>\n",
       "      <td>2021-08-01</td>\n",
       "      <td>Counter Strike: Global Offensive</td>\n",
       "    </tr>\n",
       "    <tr>\n",
       "      <th>2</th>\n",
       "      <td>July 2021</td>\n",
       "      <td>506067.36</td>\n",
       "      <td>763523</td>\n",
       "      <td>2021-07-01</td>\n",
       "      <td>Counter Strike: Global Offensive</td>\n",
       "    </tr>\n",
       "    <tr>\n",
       "      <th>3</th>\n",
       "      <td>June 2021</td>\n",
       "      <td>549347.08</td>\n",
       "      <td>929940</td>\n",
       "      <td>2021-06-01</td>\n",
       "      <td>Counter Strike: Global Offensive</td>\n",
       "    </tr>\n",
       "    <tr>\n",
       "      <th>4</th>\n",
       "      <td>May 2021</td>\n",
       "      <td>659888.89</td>\n",
       "      <td>1087197</td>\n",
       "      <td>2021-05-01</td>\n",
       "      <td>Counter Strike: Global Offensive</td>\n",
       "    </tr>\n",
       "  </tbody>\n",
       "</table>\n",
       "</div>"
      ],
      "text/plain": [
       "       Month_Year  Avg_players  Peak_Players        Date  \\\n",
       "0  September 2021    512350.92        942519  2021-09-01   \n",
       "1     August 2021    512081.96        802544  2021-08-01   \n",
       "2       July 2021    506067.36        763523  2021-07-01   \n",
       "3       June 2021    549347.08        929940  2021-06-01   \n",
       "4        May 2021    659888.89       1087197  2021-05-01   \n",
       "\n",
       "                          Game_Name  \n",
       "0  Counter Strike: Global Offensive  \n",
       "1  Counter Strike: Global Offensive  \n",
       "2  Counter Strike: Global Offensive  \n",
       "3  Counter Strike: Global Offensive  \n",
       "4  Counter Strike: Global Offensive  "
      ]
     },
     "execution_count": 23,
     "metadata": {},
     "output_type": "execute_result"
    }
   ],
   "source": [
    "avg_counts.head()"
   ]
  },
  {
   "cell_type": "code",
   "execution_count": 29,
   "metadata": {},
   "outputs": [
    {
     "data": {
      "text/plain": [
       "1     1200\n",
       "2     1200\n",
       "3     1200\n",
       "4     1200\n",
       "5     1200\n",
       "6     1200\n",
       "7     1200\n",
       "8     1200\n",
       "9     1200\n",
       "10    1200\n",
       "11    1200\n",
       "12    1200\n",
       "Name: Month, dtype: int64"
      ]
     },
     "execution_count": 29,
     "metadata": {},
     "output_type": "execute_result"
    }
   ],
   "source": [
    "Twitch['Month'].value_counts()"
   ]
  },
  {
   "cell_type": "code",
   "execution_count": 15,
   "metadata": {},
   "outputs": [
    {
     "data": {
      "text/plain": [
       "196"
      ]
     },
     "execution_count": 15,
     "metadata": {},
     "output_type": "execute_result"
    }
   ],
   "source": [
    "Player.isna().sum().sum()\n",
    "# counting the NAN values in player"
   ]
  },
  {
   "cell_type": "code",
   "execution_count": 16,
   "metadata": {},
   "outputs": [
    {
     "data": {
      "text/plain": [
       "1"
      ]
     },
     "execution_count": 16,
     "metadata": {},
     "output_type": "execute_result"
    }
   ],
   "source": [
    "Twitch.isna().sum().sum()\n",
    "#counting the Nan values in Twitch data set"
   ]
  }
 ],
 "metadata": {
  "kernelspec": {
   "display_name": "Python 3 (ipykernel)",
   "language": "python",
   "name": "python3"
  },
  "language_info": {
   "codemirror_mode": {
    "name": "ipython",
    "version": 3
   },
   "file_extension": ".py",
   "mimetype": "text/x-python",
   "name": "python",
   "nbconvert_exporter": "python",
   "pygments_lexer": "ipython3",
   "version": "3.9.7"
  }
 },
 "nbformat": 4,
 "nbformat_minor": 2
}
