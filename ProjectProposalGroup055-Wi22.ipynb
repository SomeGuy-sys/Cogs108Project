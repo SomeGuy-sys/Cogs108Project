{
 "cells": [
  {
   "cell_type": "markdown",
   "metadata": {},
   "source": [
    "# COGS 108 - Final Project Proposal"
   ]
  },
  {
   "cell_type": "markdown",
   "metadata": {},
   "source": [
    "# Names\n",
    "\n",
    "- Alexander Huynh\n",
    "- Ron Lai\n",
    "- Fernando Lares\n",
    "- Jerrick Lee\n",
    "- Dong Pham"
   ]
  },
  {
   "cell_type": "markdown",
   "metadata": {},
   "source": [
    "# Research Question"
   ]
  },
  {
   "cell_type": "markdown",
   "metadata": {},
   "source": [
    "Is there a relationship between a game being steamed and the game's number of downloads? We will focus on Twitch.tv as the primary streaming platform to gather games' streaming metrics, while we will use Steam to gather data on the games being downloaded."
   ]
  },
  {
   "cell_type": "markdown",
   "metadata": {},
   "source": [
    "## Background and Prior Work"
   ]
  },
  {
   "cell_type": "markdown",
   "metadata": {},
   "source": [
    "<br> **Background:** <br>\n",
    "Twitch.tv formerly known as Justin.tv is a streaming platform that was originally created for video games. While it has grown into something bigger, video games have stayed at its core, bringing in the majority of views. Streamers themselves have grown so big that they can receive sponsorships from companies such as Doritos and Levi's. \n",
    "\n",
    "With the prominence of video game streaming, we wamt to explore how streaming video games can be used as marketing for video games. Some games such as Fortnite are success and became well-known due to the traction gained from being streamed by influential stramers (2). In addition, Twitch has implemented systems like the Twitch drops system to incentivize viewers to play the games that they watch by giving them drops which can take form as in-game cosmetic items (1). This made us curious to see the impact of streaming on a game relative to its performance in sales and downloads. In this study, we will attempt to see if a relationship exits between the games these streamers play and the amount of downloads they subsequently receive.\n",
    "\n",
    "**Prior Work:**\n",
    "One example of a game that gained traction through streaming on Twtich is the multiplayer, social deduction game, Among Us. The game was originally developed by the indie company InnerSloth in 2018 and was considered a \"dead gane\" at the time, meaning there was not much substantial player activity. However, after being streamed on Twitch in 2020, it became one of the hit video games in 2020 which garnered 42 million downloads on Steam in the first half of Septermber 2020 and 84 million downloads on iOS and Android in the same month (3). While other important factors such as COVID-19 and quaratining may have significantly affected the downloads, we would like to continue exploring this route on the impact streaming video games has on the games' number of downloads. \n",
    "References (include links):\n",
    "- 1) https://blog.twitch.tv/en/2019/03/29/twitch-for-game-developers-b664163bed65/\n",
    "- 2) https://mp1st.com/news/how-streamers-influence-gaming-trends-and-popularity\n",
    "- 3) https://www.cnbc.com/2020/10/14/how-among-us-became-a-mega-hit-thanks-to-amazon-twitch.html"
   ]
  },
  {
   "cell_type": "markdown",
   "metadata": {},
   "source": [
    "# Hypothesis\n"
   ]
  },
  {
   "cell_type": "markdown",
   "metadata": {},
   "source": [
    "We hypothesize that there is a positive correlation between a game being streamed and the game's number of downloads. We consider that games with higher streaming metrics in terms of streaming popularity and number of viewers will encouage the viewers to want to play that game. This will result in the game having a higher number of downloads.\n"
   ]
  },
  {
   "cell_type": "markdown",
   "metadata": {},
   "source": [
    "# Data"
   ]
  },
  {
   "cell_type": "markdown",
   "metadata": {},
   "source": [
    "*Explain what the ideal dataset you would want to answer this question. (This should include: What variables? How many observations? Who/what/how would these data be collected? How would these data be stored/organized?)*\n",
    "\n",
    "Ideally, we would envision two types of datasets in our study. The first data set would be Twitch streaming metrics regarding the type of game being streamed (genre), total views per day, when the game was streamed, average viewing time, rank of game popularity in the day. The second data set would be game metrics from Steam and this would include variables such as total number of downloads, number of downloads per month, game popularity, number of copies sold, and maybe total rating. The observations for both data sets would be the different games themselves and this would be the important factor as we would need the match the game observations in order to perform analysis to determine if there is a correaltion between the streaming metrics and number of game downloads.\n",
    "\n",
    "Ideally we would like to use data that is already stored in datasets, particularly in .csv files. "
   ]
  },
  {
   "cell_type": "markdown",
   "metadata": {},
   "source": [
    "# Ethics & Privacy"
   ]
  },
  {
   "cell_type": "markdown",
   "metadata": {},
   "source": [
    "Ethics and Privacy\n",
    "For this study, we want to use datasets that are publicly available and permissible. From our initial research, we found promising data from twitch.tv that contain streaming metrics such as total views per day and most streamed games per day. These types of data are metrics that Twitch themselves use for their own analytics and seem suitable for our study. The datasets we would like to use regarding Steam game downloads are gathered from Kaggle, a public repository, and will have information regarding game reviews, game sales, and number of downloads.\n",
    "\n",
    "As these datasets are publicly available, there is transparency surrounding the data. The contents of data are mainly metrics like number of views or number of downloads and does not appear to infringe on privacy concerns as there is no personal information in the data sets.\n"
   ]
  },
  {
   "cell_type": "markdown",
   "metadata": {},
   "source": [
    "# Team Expectations "
   ]
  },
  {
   "cell_type": "markdown",
   "metadata": {},
   "source": [
    "**Project Work Structure**<br>\n",
    "* Ideally the work should be split up and done by members in groups of 2 or 3 members. Each group should have their own task to accomplish before the meeting.\n",
    "* The team should meet once at week on Discord via voice call on our agreed meeting time filled out on the Google form (Friday at 1pm).\n",
    "* During our meeting, we should discuss the current state of the project, what tasks and checkpoints the teams have accomplished in the week. We should look over the tasks and come to a consensus regarding what was accomplished. We should delegate what tasks need to be done next and set deadlines.\n",
    "<br>**Communication**<br>\n",
    "* If for some reason, a member cannot make it to a meeting or cannot fulfill the task that was assigned to them, they should notify the group immediately \n",
    "* If we get stuck or a dispute occurs, we should first try to resolve it internal, and meet with a TA if we need further assistance"
   ]
  },
  {
   "cell_type": "markdown",
   "metadata": {},
   "source": [
    "# Project Timeline Proposal"
   ]
  },
  {
   "cell_type": "markdown",
   "metadata": {},
   "source": [
    "| Meeting Date  | Meeting Time| Completed Before Meeting  | Discuss at Meeting |\n",
    "|---|---|---|---|\n",
    "| 1/20  |  1 PM | Read & Think about COGS 108 expectations; brainstorm topics/questions  | Determine best form of communication; Discuss and decide on final project topic; discuss hypothesis; begin background research | \n",
    "| 1/26  |  10 AM |  Do background research on topic | Discuss ideal dataset(s) and ethics; draft project proposal | \n",
    "| 2/1  | 10 AM  | Edit, finalize, and submit proposal; Search for datasets  | Discuss Wrangling and possible analytical approaches; Assign group members to lead each specific part   |\n",
    "| 2/14  | 6 PM  | Import & Wrangle Data (Ant Man); EDA (Hulk) | Review/Edit wrangling/EDA; Discuss Analysis Plan   |\n",
    "| 2/23  | 12 PM  | Finalize wrangling/EDA; Begin Analysis (Iron Man; Thor) | Discuss/edit Analysis; Complete project check-in |\n",
    "| 3/13  | 12 PM  | Complete analysis; Draft results/conclusion/discussion (Wasp)| Discuss/edit full project |\n",
    "| 3/19  | Before 11:59 PM  | NA | Turn in Final Project & Group Project Surveys |"
   ]
  },
  {
   "cell_type": "code",
   "execution_count": null,
   "metadata": {},
   "outputs": [],
   "source": []
  }
 ],
 "metadata": {
  "kernelspec": {
   "display_name": "Python 3 (ipykernel)",
   "language": "python",
   "name": "python3"
  },
  "language_info": {
   "codemirror_mode": {
    "name": "ipython",
    "version": 3
   },
   "file_extension": ".py",
   "mimetype": "text/x-python",
   "name": "python",
   "nbconvert_exporter": "python",
   "pygments_lexer": "ipython3",
   "version": "3.9.5"
  }
 },
 "nbformat": 4,
 "nbformat_minor": 2
}
